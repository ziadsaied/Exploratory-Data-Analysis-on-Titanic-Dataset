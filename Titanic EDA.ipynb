{
 "cells": [
  {
   "cell_type": "code",
   "execution_count": null,
   "id": "66b77f9d",
   "metadata": {},
   "outputs": [],
   "source": [
    "import pandas as pd\n",
    "import numpy as np\n",
    "df = pd.read_csv('diabetes_prediction_dataset.csv')"
   ]
  },
  {
   "cell_type": "code",
   "execution_count": null,
   "id": "e419b5a0",
   "metadata": {},
   "outputs": [
    {
     "name": "stdout",
     "output_type": "stream",
     "text": [
      "<class 'pandas.core.frame.DataFrame'>\n",
      "RangeIndex: 100000 entries, 0 to 99999\n",
      "Data columns (total 9 columns):\n",
      " #   Column               Non-Null Count   Dtype  \n",
      "---  ------               --------------   -----  \n",
      " 0   gender               100000 non-null  object \n",
      " 1   age                  100000 non-null  float64\n",
      " 2   hypertension         100000 non-null  int64  \n",
      " 3   heart_disease        100000 non-null  int64  \n",
      " 4   smoking_history      100000 non-null  object \n",
      " 5   bmi                  100000 non-null  float64\n",
      " 6   HbA1c_level          100000 non-null  float64\n",
      " 7   blood_glucose_level  100000 non-null  int64  \n",
      " 8   diabetes             100000 non-null  int64  \n",
      "dtypes: float64(3), int64(4), object(2)\n",
      "memory usage: 6.9+ MB\n",
      "None\n",
      "   gender   age  hypertension  heart_disease smoking_history    bmi  \\\n",
      "0  Female  80.0             0              1           never  25.19   \n",
      "1  Female  54.0             0              0         No Info  27.32   \n",
      "2    Male  28.0             0              0           never  27.32   \n",
      "3  Female  36.0             0              0         current  23.45   \n",
      "4    Male  76.0             1              1         current  20.14   \n",
      "\n",
      "   HbA1c_level  blood_glucose_level  diabetes  \n",
      "0          6.6                  140         0  \n",
      "1          6.6                   80         0  \n",
      "2          5.7                  158         0  \n",
      "3          5.0                  155         0  \n",
      "4          4.8                  155         0  \n",
      "3854\n",
      "0\n"
     ]
    }
   ],
   "source": [
    "print(df.info())\n",
    "print(df.head())\n",
    "print(df.duplicated().sum())\n",
    "df = df.drop_duplicates()\n",
    "print(df.duplicated().sum())"
   ]
  },
  {
   "cell_type": "code",
   "execution_count": null,
   "id": "45db7503",
   "metadata": {},
   "outputs": [],
   "source": [
    "df[\"gender\"] = df[\"gender\"].map({\"Female\": 0, \"Male\": 1, \"Other\": 2})\n",
    "df = pd.get_dummies(df, columns=[\"smoking_history\"], drop_first=True)\n"
   ]
  },
  {
   "cell_type": "code",
   "execution_count": null,
   "id": "8ba469a6",
   "metadata": {},
   "outputs": [],
   "source": [
    "df[\"age_group\"] = np.where(df[\"age\"] < 30, \"<30\",\n",
    "                    np.where(df[\"age\"] <= 60, \"30-60\", \">60\"))\n",
    "\n",
    "def bmi_cat(bmi):\n",
    "    if bmi < 18.5:\n",
    "        return \"Underweight\"\n",
    "    elif bmi < 25:\n",
    "        return \"Normal\"\n",
    "    elif bmi < 30:\n",
    "        return \"Overweight\"\n",
    "    else:\n",
    "        return \"Obese\"\n",
    "\n",
    "df[\"bmi_category\"] = df[\"bmi\"].apply(bmi_cat)"
   ]
  },
  {
   "cell_type": "code",
   "execution_count": null,
   "id": "e38bebfc",
   "metadata": {},
   "outputs": [
    {
     "name": "stdout",
     "output_type": "stream",
     "text": [
      "gender                         0\n",
      "age                            0\n",
      "hypertension                   0\n",
      "heart_disease                  0\n",
      "bmi                            0\n",
      "HbA1c_level                    0\n",
      "blood_glucose_level            0\n",
      "diabetes                       0\n",
      "smoking_history_current        0\n",
      "smoking_history_ever           0\n",
      "smoking_history_former         0\n",
      "smoking_history_never          0\n",
      "smoking_history_not current    0\n",
      "age_group                      0\n",
      "bmi_category                   0\n",
      "dtype: int64\n",
      "gender                           int64\n",
      "age                            float64\n",
      "hypertension                     int64\n",
      "heart_disease                    int64\n",
      "bmi                            float64\n",
      "HbA1c_level                    float64\n",
      "blood_glucose_level              int64\n",
      "diabetes                         int64\n",
      "smoking_history_current           bool\n",
      "smoking_history_ever              bool\n",
      "smoking_history_former            bool\n",
      "smoking_history_never             bool\n",
      "smoking_history_not current       bool\n",
      "age_group                       object\n",
      "bmi_category                    object\n",
      "dtype: object\n",
      "   gender   age  hypertension  heart_disease    bmi  HbA1c_level  \\\n",
      "0       0  80.0             0              1  25.19          6.6   \n",
      "1       0  54.0             0              0  27.32          6.6   \n",
      "2       1  28.0             0              0  27.32          5.7   \n",
      "3       0  36.0             0              0  23.45          5.0   \n",
      "4       1  76.0             1              1  20.14          4.8   \n",
      "\n",
      "   blood_glucose_level  diabetes  smoking_history_current  \\\n",
      "0                  140         0                    False   \n",
      "1                   80         0                    False   \n",
      "2                  158         0                    False   \n",
      "3                  155         0                     True   \n",
      "4                  155         0                     True   \n",
      "\n",
      "   smoking_history_ever  smoking_history_former  smoking_history_never  \\\n",
      "0                 False                   False                   True   \n",
      "1                 False                   False                  False   \n",
      "2                 False                   False                   True   \n",
      "3                 False                   False                  False   \n",
      "4                 False                   False                  False   \n",
      "\n",
      "   smoking_history_not current age_group bmi_category  \n",
      "0                        False       >60   Overweight  \n",
      "1                        False     30-60   Overweight  \n",
      "2                        False       <30   Overweight  \n",
      "3                        False     30-60       Normal  \n",
      "4                        False       >60       Normal  \n"
     ]
    }
   ],
   "source": [
    "print(df.isnull().sum())\n",
    "print(df.dtypes)\n",
    "print(df.head())\n"
   ]
  },
  {
   "cell_type": "code",
   "execution_count": null,
   "id": "50779c00",
   "metadata": {},
   "outputs": [],
   "source": [
    "df.to_csv(\"diabetes_processed.csv\", index=False)\n"
   ]
  }
 ],
 "metadata": {
  "language_info": {
   "name": "python"
  }
 },
 "nbformat": 4,
 "nbformat_minor": 5
}
